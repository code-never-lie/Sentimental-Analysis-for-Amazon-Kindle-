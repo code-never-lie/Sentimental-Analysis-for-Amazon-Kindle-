{
 "cells": [
  {
   "cell_type": "code",
   "execution_count": 2,
   "metadata": {},
   "outputs": [],
   "source": [
    "from textblob import TextBlob\n",
    "import pandas as pd\n",
    "import gzip\n",
    "import numpy as np  # linear algebra\n",
    "import pandas as pd # data processing, like text ,CSV or pdf file\n",
    "df = pd.read_csv('C:\\\\Users\\\\AR 161\\\\Desktop\\\\Final Project\\\\Data Set\\\\kindle_reviews.csv')\n"
   ]
  },
  {
   "cell_type": "code",
   "execution_count": 8,
   "metadata": {},
   "outputs": [
    {
     "data": {
      "text/html": [
       "<div>\n",
       "<style scoped>\n",
       "    .dataframe tbody tr th:only-of-type {\n",
       "        vertical-align: middle;\n",
       "    }\n",
       "\n",
       "    .dataframe tbody tr th {\n",
       "        vertical-align: top;\n",
       "    }\n",
       "\n",
       "    .dataframe thead th {\n",
       "        text-align: right;\n",
       "    }\n",
       "</style>\n",
       "<table border=\"1\" class=\"dataframe\">\n",
       "  <thead>\n",
       "    <tr style=\"text-align: right;\">\n",
       "      <th></th>\n",
       "      <th>Unnamed: 0</th>\n",
       "      <th>asin</th>\n",
       "      <th>helpful</th>\n",
       "      <th>overall</th>\n",
       "      <th>reviewText</th>\n",
       "      <th>reviewTime</th>\n",
       "      <th>reviewerID</th>\n",
       "      <th>reviewerName</th>\n",
       "      <th>summary</th>\n",
       "      <th>unixReviewTime</th>\n",
       "    </tr>\n",
       "  </thead>\n",
       "  <tbody>\n",
       "    <tr>\n",
       "      <th>0</th>\n",
       "      <td>0</td>\n",
       "      <td>B000F83SZQ</td>\n",
       "      <td>[0, 0]</td>\n",
       "      <td>5</td>\n",
       "      <td>I enjoy vintage books and movies so I enjoyed ...</td>\n",
       "      <td>05 5, 2014</td>\n",
       "      <td>A1F6404F1VG29J</td>\n",
       "      <td>Avidreader</td>\n",
       "      <td>Nice vintage story</td>\n",
       "      <td>1399248000</td>\n",
       "    </tr>\n",
       "    <tr>\n",
       "      <th>1</th>\n",
       "      <td>1</td>\n",
       "      <td>B000F83SZQ</td>\n",
       "      <td>[2, 2]</td>\n",
       "      <td>4</td>\n",
       "      <td>This book is a reissue of an old one; the auth...</td>\n",
       "      <td>01 6, 2014</td>\n",
       "      <td>AN0N05A9LIJEQ</td>\n",
       "      <td>critters</td>\n",
       "      <td>Different...</td>\n",
       "      <td>1388966400</td>\n",
       "    </tr>\n",
       "    <tr>\n",
       "      <th>2</th>\n",
       "      <td>2</td>\n",
       "      <td>B000F83SZQ</td>\n",
       "      <td>[2, 2]</td>\n",
       "      <td>4</td>\n",
       "      <td>This was a fairly interesting read.  It had ol...</td>\n",
       "      <td>04 4, 2014</td>\n",
       "      <td>A795DMNCJILA6</td>\n",
       "      <td>dot</td>\n",
       "      <td>Oldie</td>\n",
       "      <td>1396569600</td>\n",
       "    </tr>\n",
       "    <tr>\n",
       "      <th>3</th>\n",
       "      <td>3</td>\n",
       "      <td>B000F83SZQ</td>\n",
       "      <td>[1, 1]</td>\n",
       "      <td>5</td>\n",
       "      <td>I'd never read any of the Amy Brewster mysteri...</td>\n",
       "      <td>02 19, 2014</td>\n",
       "      <td>A1FV0SX13TWVXQ</td>\n",
       "      <td>Elaine H. Turley \"Montana Songbird\"</td>\n",
       "      <td>I really liked it.</td>\n",
       "      <td>1392768000</td>\n",
       "    </tr>\n",
       "    <tr>\n",
       "      <th>4</th>\n",
       "      <td>4</td>\n",
       "      <td>B000F83SZQ</td>\n",
       "      <td>[0, 1]</td>\n",
       "      <td>4</td>\n",
       "      <td>If you like period pieces - clothing, lingo, y...</td>\n",
       "      <td>03 19, 2014</td>\n",
       "      <td>A3SPTOKDG7WBLN</td>\n",
       "      <td>Father Dowling Fan</td>\n",
       "      <td>Period Mystery</td>\n",
       "      <td>1395187200</td>\n",
       "    </tr>\n",
       "    <tr>\n",
       "      <th>5</th>\n",
       "      <td>5</td>\n",
       "      <td>B000F83SZQ</td>\n",
       "      <td>[0, 0]</td>\n",
       "      <td>4</td>\n",
       "      <td>A beautiful in-depth character description mak...</td>\n",
       "      <td>05 26, 2014</td>\n",
       "      <td>A1RK2OCZDSGC6R</td>\n",
       "      <td>ubavka seirovska</td>\n",
       "      <td>Review</td>\n",
       "      <td>1401062400</td>\n",
       "    </tr>\n",
       "    <tr>\n",
       "      <th>6</th>\n",
       "      <td>6</td>\n",
       "      <td>B000F83SZQ</td>\n",
       "      <td>[0, 0]</td>\n",
       "      <td>4</td>\n",
       "      <td>I enjoyed this one tho I'm not sure why it's c...</td>\n",
       "      <td>06 10, 2014</td>\n",
       "      <td>A2HSAKHC3IBRE6</td>\n",
       "      <td>Wolfmist</td>\n",
       "      <td>Nice old fashioned story</td>\n",
       "      <td>1402358400</td>\n",
       "    </tr>\n",
       "    <tr>\n",
       "      <th>7</th>\n",
       "      <td>7</td>\n",
       "      <td>B000F83SZQ</td>\n",
       "      <td>[1, 1]</td>\n",
       "      <td>4</td>\n",
       "      <td>Never heard of Amy Brewster. But I don't need ...</td>\n",
       "      <td>03 22, 2014</td>\n",
       "      <td>A3DE6XGZ2EPADS</td>\n",
       "      <td>WPY</td>\n",
       "      <td>Enjoyable reading and reminding the old times</td>\n",
       "      <td>1395446400</td>\n",
       "    </tr>\n",
       "    <tr>\n",
       "      <th>8</th>\n",
       "      <td>8</td>\n",
       "      <td>B000FA64PA</td>\n",
       "      <td>[0, 0]</td>\n",
       "      <td>5</td>\n",
       "      <td>Darth Maul working under cloak of darkness com...</td>\n",
       "      <td>10 11, 2013</td>\n",
       "      <td>A1UG4Q4D3OAH3A</td>\n",
       "      <td>dsa</td>\n",
       "      <td>Darth Maul</td>\n",
       "      <td>1381449600</td>\n",
       "    </tr>\n",
       "    <tr>\n",
       "      <th>9</th>\n",
       "      <td>9</td>\n",
       "      <td>B000FA64PA</td>\n",
       "      <td>[0, 0]</td>\n",
       "      <td>4</td>\n",
       "      <td>This is a short story focused on Darth Maul's ...</td>\n",
       "      <td>02 13, 2011</td>\n",
       "      <td>AQZH7YTWQPOBE</td>\n",
       "      <td>Enjolras</td>\n",
       "      <td>Not bad, not exceptional</td>\n",
       "      <td>1297555200</td>\n",
       "    </tr>\n",
       "  </tbody>\n",
       "</table>\n",
       "</div>"
      ],
      "text/plain": [
       "   Unnamed: 0        asin helpful  overall  \\\n",
       "0           0  B000F83SZQ  [0, 0]        5   \n",
       "1           1  B000F83SZQ  [2, 2]        4   \n",
       "2           2  B000F83SZQ  [2, 2]        4   \n",
       "3           3  B000F83SZQ  [1, 1]        5   \n",
       "4           4  B000F83SZQ  [0, 1]        4   \n",
       "5           5  B000F83SZQ  [0, 0]        4   \n",
       "6           6  B000F83SZQ  [0, 0]        4   \n",
       "7           7  B000F83SZQ  [1, 1]        4   \n",
       "8           8  B000FA64PA  [0, 0]        5   \n",
       "9           9  B000FA64PA  [0, 0]        4   \n",
       "\n",
       "                                          reviewText   reviewTime  \\\n",
       "0  I enjoy vintage books and movies so I enjoyed ...   05 5, 2014   \n",
       "1  This book is a reissue of an old one; the auth...   01 6, 2014   \n",
       "2  This was a fairly interesting read.  It had ol...   04 4, 2014   \n",
       "3  I'd never read any of the Amy Brewster mysteri...  02 19, 2014   \n",
       "4  If you like period pieces - clothing, lingo, y...  03 19, 2014   \n",
       "5  A beautiful in-depth character description mak...  05 26, 2014   \n",
       "6  I enjoyed this one tho I'm not sure why it's c...  06 10, 2014   \n",
       "7  Never heard of Amy Brewster. But I don't need ...  03 22, 2014   \n",
       "8  Darth Maul working under cloak of darkness com...  10 11, 2013   \n",
       "9  This is a short story focused on Darth Maul's ...  02 13, 2011   \n",
       "\n",
       "       reviewerID                         reviewerName  \\\n",
       "0  A1F6404F1VG29J                           Avidreader   \n",
       "1   AN0N05A9LIJEQ                             critters   \n",
       "2   A795DMNCJILA6                                  dot   \n",
       "3  A1FV0SX13TWVXQ  Elaine H. Turley \"Montana Songbird\"   \n",
       "4  A3SPTOKDG7WBLN                   Father Dowling Fan   \n",
       "5  A1RK2OCZDSGC6R                     ubavka seirovska   \n",
       "6  A2HSAKHC3IBRE6                             Wolfmist   \n",
       "7  A3DE6XGZ2EPADS                                  WPY   \n",
       "8  A1UG4Q4D3OAH3A                                  dsa   \n",
       "9   AQZH7YTWQPOBE                             Enjolras   \n",
       "\n",
       "                                         summary  unixReviewTime  \n",
       "0                             Nice vintage story      1399248000  \n",
       "1                                   Different...      1388966400  \n",
       "2                                          Oldie      1396569600  \n",
       "3                             I really liked it.      1392768000  \n",
       "4                                 Period Mystery      1395187200  \n",
       "5                                         Review      1401062400  \n",
       "6                       Nice old fashioned story      1402358400  \n",
       "7  Enjoyable reading and reminding the old times      1395446400  \n",
       "8                                     Darth Maul      1381449600  \n",
       "9                       Not bad, not exceptional      1297555200  "
      ]
     },
     "execution_count": 8,
     "metadata": {},
     "output_type": "execute_result"
    }
   ],
   "source": [
    "df.head(10)   # here i check data by using head function also we pass perameter in integer value  "
   ]
  },
  {
   "cell_type": "code",
   "execution_count": 31,
   "metadata": {},
   "outputs": [
    {
     "name": "stdout",
     "output_type": "stream",
     "text": [
      "982619\n"
     ]
    }
   ],
   "source": [
    "a=len(df['reviewText'])\n",
    "print(a)"
   ]
  },
  {
   "cell_type": "code",
   "execution_count": 25,
   "metadata": {},
   "outputs": [
    {
     "name": "stdout",
     "output_type": "stream",
     "text": [
      "0         I enjoy vintage books and movies so I enjoyed ...\n",
      "1         This book is a reissue of an old one; the auth...\n",
      "2         This was a fairly interesting read.  It had ol...\n",
      "3         I'd never read any of the Amy Brewster mysteri...\n",
      "4         If you like period pieces - clothing, lingo, y...\n",
      "                                ...                        \n",
      "982614    Yasss hunny! This is a great read. That Dre is...\n",
      "982615    I ENJOYED THIS BOOK FROM BEGINNING TO END NOW ...\n",
      "982616    Great book! Cherika was a fool. She let that m...\n",
      "982617    When I say this was an excellent book please b...\n",
      "982618    This book was everything. I just hope Alexus w...\n",
      "Name: reviewText, Length: 982619, dtype: object\n"
     ]
    }
   ],
   "source": [
    "b=df['reviewText']\n",
    "print(b)"
   ]
  },
  {
   "cell_type": "markdown",
   "metadata": {},
   "source": [
    "# We Can classify different review on the bases of Natural, objective,positive,Negative,Subjective by using Textblod which is a python labariry "
   ]
  },
  {
   "cell_type": "code",
   "execution_count": 28,
   "metadata": {},
   "outputs": [],
   "source": [
    "blob = TextBlob(b[1])"
   ]
  },
  {
   "cell_type": "code",
   "execution_count": 29,
   "metadata": {},
   "outputs": [
    {
     "data": {
      "text/plain": [
       "Sentiment(polarity=0.2825, subjectivity=0.38)"
      ]
     },
     "execution_count": 29,
     "metadata": {},
     "output_type": "execute_result"
    }
   ],
   "source": [
    "blob.sentiment"
   ]
  },
  {
   "cell_type": "code",
   "execution_count": null,
   "metadata": {},
   "outputs": [],
   "source": [
    "#Lets find review sentiment for each review similarly\n",
    "polarity_list,subjectivity_list=[],[]\n",
    "\n",
    "for i in range(982619):\n",
    "    blob = TextBlob(b[i])\n",
    "    polarity_list.append(blob.sentiment.polarity)\n",
    "    subjectivity_list.append(blob.sentiment.subjectivity)"
   ]
  },
  {
   "cell_type": "code",
   "execution_count": null,
   "metadata": {},
   "outputs": [],
   "source": [
    "#Lets check few highly negative reviews with very high Polarity(<-.9)\n",
    "c = 0\n",
    "for i in range(len(polarity_list)):\n",
    "    if(c>10): break\n",
    "    if(polarity_list[i]<-.9 and c<10) :\n",
    "        print(b[i],\"\\n\")\n",
    "        c+=1"
   ]
  },
  {
   "cell_type": "code",
   "execution_count": null,
   "metadata": {},
   "outputs": [],
   "source": [
    "#Lets check few subjective reviews\n",
    "c = 0\n",
    "for i in range(len(subjectivity_list)):\n",
    "    if(c>10): break\n",
    "    if(subjectivity_list[i]>.9 and c<10) :\n",
    "        print(b[i],\"\\n\")\n",
    "        c+=1"
   ]
  },
  {
   "cell_type": "code",
   "execution_count": null,
   "metadata": {},
   "outputs": [],
   "source": [
    "#Now lets check some objective reviews\n",
    "c = 0\n",
    "for i in range(len(subjectivity_list)):\n",
    "    if(c>10): break\n",
    "    if(subjectivity_list[i]<.1 and c<10) :\n",
    "        print(b[i],\"\\n\")\n",
    "        c+=1"
   ]
  },
  {
   "cell_type": "code",
   "execution_count": null,
   "metadata": {},
   "outputs": [],
   "source": [
    "#Lets check some neutral reviews\n",
    "c = 0\n",
    "for i in range(len(polarity_list)):\n",
    "    if(c>10): break\n",
    "    if(polarity_list[i]==0 and c<10) :\n",
    "        print(all_reviews[i],\"\\n\")\n",
    "        c+=1"
   ]
  }
 ],
 "metadata": {
  "kernelspec": {
   "display_name": "Python 3",
   "language": "python",
   "name": "python3"
  },
  "language_info": {
   "codemirror_mode": {
    "name": "ipython",
    "version": 3
   },
   "file_extension": ".py",
   "mimetype": "text/x-python",
   "name": "python",
   "nbconvert_exporter": "python",
   "pygments_lexer": "ipython3",
   "version": "3.8.3"
  }
 },
 "nbformat": 4,
 "nbformat_minor": 4
}
